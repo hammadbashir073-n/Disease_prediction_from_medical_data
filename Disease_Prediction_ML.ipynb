{
 "cells": [
  {
   "cell_type": "markdown",
   "id": "d148d544",
   "metadata": {},
   "source": [
    "# Disease Prediction from Medical Data\n",
    "\n",
    "**Goal:** Predict disease risk (example: Heart Disease or Diabetes). This notebook uses the Kaggle API to download a dataset — set `DATASET_SLUG` below.\n"
   ]
  },
  {
   "cell_type": "markdown",
   "id": "8ba238db",
   "metadata": {},
   "source": [
    "## 1. Kaggle API setup (same as credit notebook)\n",
    "\n",
    "Replace `DATASET_SLUG` with your dataset slug and run the download cell."
   ]
  },
  {
   "cell_type": "code",
   "execution_count": null,
   "id": "30c51146",
   "metadata": {},
   "outputs": [],
   "source": [
    "DATASET_SLUG = 'DATASET_OWNER/DATASET_NAME'  # <-- REPLACE\n",
    "import os\n",
    "if DATASET_SLUG == 'DATASET_OWNER/DATASET_NAME':\n",
    "    print('Please set DATASET_SLUG to the dataset you want to download from Kaggle.')\n",
    "else:\n",
    "    os.system(f'kaggle datasets download -d {DATASET_SLUG} -p ./data --unzip')\n",
    "    print('Download attempted. Check ./data for files.')"
   ]
  },
  {
   "cell_type": "markdown",
   "id": "35421bb4",
   "metadata": {},
   "source": [
    "## 2. Imports"
   ]
  },
  {
   "cell_type": "code",
   "execution_count": null,
   "id": "bbdaadb5",
   "metadata": {},
   "outputs": [],
   "source": [
    "import pandas as pd\n",
    "import numpy as np\n",
    "from sklearn.model_selection import train_test_split\n",
    "from sklearn.preprocessing import StandardScaler\n",
    "from sklearn.ensemble import RandomForestClassifier\n",
    "from sklearn.metrics import accuracy_score, f1_score, roc_auc_score, classification_report, confusion_matrix\n",
    "\n",
    "print('Libraries imported')"
   ]
  },
  {
   "cell_type": "markdown",
   "id": "6dd699ca",
   "metadata": {},
   "source": [
    "## 3. Load dataset\n",
    "\n",
    "Common filenames: `heart.csv`, `diabetes.csv`. Update the PATH variable to match your dataset."
   ]
  },
  {
   "cell_type": "code",
   "execution_count": null,
   "id": "fa7d67f8",
   "metadata": {},
   "outputs": [],
   "source": [
    "POSSIBLE_PATHS = ['./data/heart.csv','./data/diabetes.csv','./data/data.csv']\n",
    "found = None\n",
    "for p in POSSIBLE_PATHS:\n",
    "    if os.path.exists(p):\n",
    "        found = p\n",
    "        break\n",
    "\n",
    "if not found:\n",
    "    print('No common file found in ./data. Please place dataset in ./data and update file name.')\n",
    "else:\n",
    "    df = pd.read_csv(found)\n",
    "    print('Loaded', found, 'shape:', df.shape)\n",
    "    df.head()"
   ]
  },
  {
   "cell_type": "markdown",
   "id": "7f052c8e",
   "metadata": {},
   "source": [
    "## 4. EDA & preprocessing (example)\n",
    "\n",
    "Adjust the TARGET variable to the dataset's target column (e.g., `target`, `Outcome`, `heart_disease`)."
   ]
  },
  {
   "cell_type": "code",
   "execution_count": null,
   "id": "79138290",
   "metadata": {},
   "outputs": [],
   "source": [
    "# Quick EDA\n",
    "print(df.info())\n",
    "print('\\nMissing values:\\n', df.isnull().sum())\n",
    "print('\\nDescribe:\\n', df.describe())"
   ]
  },
  {
   "cell_type": "code",
   "execution_count": null,
   "id": "3df97a39",
   "metadata": {},
   "outputs": [],
   "source": [
    "TARGET = 'target'  # <-- change as needed\n",
    "if TARGET not in df.columns:\n",
    "    print('Target column not found. Please update TARGET variable to your dataset target column name.')\n",
    "else:\n",
    "    X = df.drop(columns=[TARGET])\n",
    "    y = df[TARGET]\n",
    "    X_train, X_test, y_train, y_test = train_test_split(X, y, test_size=0.2, random_state=42, stratify=y if y.nunique()>1 else None)\n",
    "    scaler = StandardScaler()\n",
    "    X_train_scaled = scaler.fit_transform(X_train.select_dtypes(include=[np.number]))\n",
    "    X_test_scaled = scaler.transform(X_test.select_dtypes(include=[np.number]))\n",
    "    print('Prepared numeric features for modeling.')"
   ]
  },
  {
   "cell_type": "markdown",
   "id": "816edbba",
   "metadata": {},
   "source": [
    "## 5. Train a Random Forest (example)"
   ]
  },
  {
   "cell_type": "code",
   "execution_count": null,
   "id": "278d2738",
   "metadata": {},
   "outputs": [],
   "source": [
    "if TARGET in df.columns:\n",
    "    rf = RandomForestClassifier(n_estimators=100, random_state=42)\n",
    "    rf.fit(X_train.select_dtypes(include=[np.number]), y_train)\n",
    "    y_pred = rf.predict(X_test.select_dtypes(include=[np.number]))\n",
    "    print('Accuracy:', accuracy_score(y_test, y_pred))\n",
    "    print('F1:', f1_score(y_test, y_pred, zero_division=0))\n",
    "    if hasattr(rf,'predict_proba'):\n",
    "        try:\n",
    "            y_proba = rf.predict_proba(X_test.select_dtypes(include=[np.number]))[:,1]\n",
    "            print('ROC-AUC:', roc_auc_score(y_test, y_proba))\n",
    "        except Exception as e:\n",
    "            print('ROC-AUC error:', e)\n",
    "    print('\\nClassification report:\\n', classification_report(y_test, y_pred, zero_division=0))\n",
    "    print('\\nConfusion matrix:\\n', confusion_matrix(y_test, y_pred))"
   ]
  },
  {
   "cell_type": "markdown",
   "id": "642a3748",
   "metadata": {},
   "source": [
    "## 6. Feature importance & interpretation\n",
    "\n",
    "For tree-based models you can inspect feature_importances_. Consider SHAP for richer explanations."
   ]
  },
  {
   "cell_type": "code",
   "execution_count": null,
   "id": "8f09c43c",
   "metadata": {},
   "outputs": [],
   "source": [
    "if TARGET in df.columns:\n",
    "    importances = rf.feature_importances_\n",
    "    feat_names = X.select_dtypes(include=[np.number]).columns\n",
    "    fi = pd.DataFrame({'feature': feat_names, 'importance': importances}).sort_values('importance', ascending=False)\n",
    "    display(fi.head(20))"
   ]
  },
  {
   "cell_type": "markdown",
   "id": "df0b7675",
   "metadata": {},
   "source": [
    "## 7. Save and push to GitHub\n",
    "\n",
    "See the final section for GitHub instructions. Create a `requirements.txt` using `pip freeze > requirements.txt` and include your notebooks and dataset information in the repo README."
   ]
  }
 ],
 "metadata": {},
 "nbformat": 4,
 "nbformat_minor": 5
}
